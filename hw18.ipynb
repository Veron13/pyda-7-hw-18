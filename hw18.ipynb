{
 "cells": [
  {
   "cell_type": "markdown",
   "metadata": {
    "colab_type": "text",
    "id": "view-in-github"
   },
   "source": [
    "<a href=\"https://colab.research.google.com/github/yustinaivanova/netology_statistics/blob/master/dz_4_version2.ipynb\" target=\"_parent\"><img src=\"https://colab.research.google.com/assets/colab-badge.svg\" alt=\"Open In Colab\"/></a>"
   ]
  },
  {
   "cell_type": "markdown",
   "metadata": {
    "colab_type": "text",
    "id": "eY5OAxFSfZ9j"
   },
   "source": [
    "# Домашняя работа №4"
   ]
  },
  {
   "cell_type": "markdown",
   "metadata": {
    "colab_type": "text",
    "id": "bozSzxpJfgaR"
   },
   "source": [
    "Для датасета kaggle, Credit Card Fraud Detection. https://www.kaggle.com/mlg-ulb/creditcardfraud "
   ]
  },
  {
   "cell_type": "code",
   "execution_count": 2,
   "metadata": {},
   "outputs": [],
   "source": [
    "import io\n",
    "import requests\n",
    "import ssl\n",
    "import pandas as pd\n",
    "import numpy as np\n",
    "# следующая строчка подключает сертификат для защищенного соединения\n",
    "ssl._create_default_https_context = ssl._create_unverified_context\n",
    "url=\"http://yustiks.ru/dataset/creditcard.csv\"\n",
    "dataset=pd.read_csv(url)"
   ]
  },
  {
   "cell_type": "markdown",
   "metadata": {
    "colab_type": "text",
    "id": "qvuEya_qflkG"
   },
   "source": [
    "**1. Загрузить датасет**"
   ]
  },
  {
   "cell_type": "code",
   "execution_count": 6,
   "metadata": {},
   "outputs": [
    {
     "data": {
      "text/html": [
       "<div>\n",
       "<style scoped>\n",
       "    .dataframe tbody tr th:only-of-type {\n",
       "        vertical-align: middle;\n",
       "    }\n",
       "\n",
       "    .dataframe tbody tr th {\n",
       "        vertical-align: top;\n",
       "    }\n",
       "\n",
       "    .dataframe thead th {\n",
       "        text-align: right;\n",
       "    }\n",
       "</style>\n",
       "<table border=\"1\" class=\"dataframe\">\n",
       "  <thead>\n",
       "    <tr style=\"text-align: right;\">\n",
       "      <th></th>\n",
       "      <th>Time</th>\n",
       "      <th>V1</th>\n",
       "      <th>V2</th>\n",
       "      <th>V3</th>\n",
       "      <th>V4</th>\n",
       "      <th>V5</th>\n",
       "      <th>V6</th>\n",
       "      <th>V7</th>\n",
       "      <th>V8</th>\n",
       "      <th>V9</th>\n",
       "      <th>...</th>\n",
       "      <th>V21</th>\n",
       "      <th>V22</th>\n",
       "      <th>V23</th>\n",
       "      <th>V24</th>\n",
       "      <th>V25</th>\n",
       "      <th>V26</th>\n",
       "      <th>V27</th>\n",
       "      <th>V28</th>\n",
       "      <th>Amount</th>\n",
       "      <th>Class</th>\n",
       "    </tr>\n",
       "  </thead>\n",
       "  <tbody>\n",
       "    <tr>\n",
       "      <td>0</td>\n",
       "      <td>0.0</td>\n",
       "      <td>-1.359807</td>\n",
       "      <td>-0.072781</td>\n",
       "      <td>2.536347</td>\n",
       "      <td>1.378155</td>\n",
       "      <td>-0.338321</td>\n",
       "      <td>0.462388</td>\n",
       "      <td>0.239599</td>\n",
       "      <td>0.098698</td>\n",
       "      <td>0.363787</td>\n",
       "      <td>...</td>\n",
       "      <td>-0.018307</td>\n",
       "      <td>0.277838</td>\n",
       "      <td>-0.110474</td>\n",
       "      <td>0.066928</td>\n",
       "      <td>0.128539</td>\n",
       "      <td>-0.189115</td>\n",
       "      <td>0.133558</td>\n",
       "      <td>-0.021053</td>\n",
       "      <td>149.62</td>\n",
       "      <td>0</td>\n",
       "    </tr>\n",
       "    <tr>\n",
       "      <td>1</td>\n",
       "      <td>0.0</td>\n",
       "      <td>1.191857</td>\n",
       "      <td>0.266151</td>\n",
       "      <td>0.166480</td>\n",
       "      <td>0.448154</td>\n",
       "      <td>0.060018</td>\n",
       "      <td>-0.082361</td>\n",
       "      <td>-0.078803</td>\n",
       "      <td>0.085102</td>\n",
       "      <td>-0.255425</td>\n",
       "      <td>...</td>\n",
       "      <td>-0.225775</td>\n",
       "      <td>-0.638672</td>\n",
       "      <td>0.101288</td>\n",
       "      <td>-0.339846</td>\n",
       "      <td>0.167170</td>\n",
       "      <td>0.125895</td>\n",
       "      <td>-0.008983</td>\n",
       "      <td>0.014724</td>\n",
       "      <td>2.69</td>\n",
       "      <td>0</td>\n",
       "    </tr>\n",
       "    <tr>\n",
       "      <td>2</td>\n",
       "      <td>1.0</td>\n",
       "      <td>-1.358354</td>\n",
       "      <td>-1.340163</td>\n",
       "      <td>1.773209</td>\n",
       "      <td>0.379780</td>\n",
       "      <td>-0.503198</td>\n",
       "      <td>1.800499</td>\n",
       "      <td>0.791461</td>\n",
       "      <td>0.247676</td>\n",
       "      <td>-1.514654</td>\n",
       "      <td>...</td>\n",
       "      <td>0.247998</td>\n",
       "      <td>0.771679</td>\n",
       "      <td>0.909412</td>\n",
       "      <td>-0.689281</td>\n",
       "      <td>-0.327642</td>\n",
       "      <td>-0.139097</td>\n",
       "      <td>-0.055353</td>\n",
       "      <td>-0.059752</td>\n",
       "      <td>378.66</td>\n",
       "      <td>0</td>\n",
       "    </tr>\n",
       "    <tr>\n",
       "      <td>3</td>\n",
       "      <td>1.0</td>\n",
       "      <td>-0.966272</td>\n",
       "      <td>-0.185226</td>\n",
       "      <td>1.792993</td>\n",
       "      <td>-0.863291</td>\n",
       "      <td>-0.010309</td>\n",
       "      <td>1.247203</td>\n",
       "      <td>0.237609</td>\n",
       "      <td>0.377436</td>\n",
       "      <td>-1.387024</td>\n",
       "      <td>...</td>\n",
       "      <td>-0.108300</td>\n",
       "      <td>0.005274</td>\n",
       "      <td>-0.190321</td>\n",
       "      <td>-1.175575</td>\n",
       "      <td>0.647376</td>\n",
       "      <td>-0.221929</td>\n",
       "      <td>0.062723</td>\n",
       "      <td>0.061458</td>\n",
       "      <td>123.50</td>\n",
       "      <td>0</td>\n",
       "    </tr>\n",
       "    <tr>\n",
       "      <td>4</td>\n",
       "      <td>2.0</td>\n",
       "      <td>-1.158233</td>\n",
       "      <td>0.877737</td>\n",
       "      <td>1.548718</td>\n",
       "      <td>0.403034</td>\n",
       "      <td>-0.407193</td>\n",
       "      <td>0.095921</td>\n",
       "      <td>0.592941</td>\n",
       "      <td>-0.270533</td>\n",
       "      <td>0.817739</td>\n",
       "      <td>...</td>\n",
       "      <td>-0.009431</td>\n",
       "      <td>0.798278</td>\n",
       "      <td>-0.137458</td>\n",
       "      <td>0.141267</td>\n",
       "      <td>-0.206010</td>\n",
       "      <td>0.502292</td>\n",
       "      <td>0.219422</td>\n",
       "      <td>0.215153</td>\n",
       "      <td>69.99</td>\n",
       "      <td>0</td>\n",
       "    </tr>\n",
       "  </tbody>\n",
       "</table>\n",
       "<p>5 rows × 31 columns</p>\n",
       "</div>"
      ],
      "text/plain": [
       "   Time        V1        V2        V3        V4        V5        V6        V7  \\\n",
       "0   0.0 -1.359807 -0.072781  2.536347  1.378155 -0.338321  0.462388  0.239599   \n",
       "1   0.0  1.191857  0.266151  0.166480  0.448154  0.060018 -0.082361 -0.078803   \n",
       "2   1.0 -1.358354 -1.340163  1.773209  0.379780 -0.503198  1.800499  0.791461   \n",
       "3   1.0 -0.966272 -0.185226  1.792993 -0.863291 -0.010309  1.247203  0.237609   \n",
       "4   2.0 -1.158233  0.877737  1.548718  0.403034 -0.407193  0.095921  0.592941   \n",
       "\n",
       "         V8        V9  ...       V21       V22       V23       V24       V25  \\\n",
       "0  0.098698  0.363787  ... -0.018307  0.277838 -0.110474  0.066928  0.128539   \n",
       "1  0.085102 -0.255425  ... -0.225775 -0.638672  0.101288 -0.339846  0.167170   \n",
       "2  0.247676 -1.514654  ...  0.247998  0.771679  0.909412 -0.689281 -0.327642   \n",
       "3  0.377436 -1.387024  ... -0.108300  0.005274 -0.190321 -1.175575  0.647376   \n",
       "4 -0.270533  0.817739  ... -0.009431  0.798278 -0.137458  0.141267 -0.206010   \n",
       "\n",
       "        V26       V27       V28  Amount  Class  \n",
       "0 -0.189115  0.133558 -0.021053  149.62      0  \n",
       "1  0.125895 -0.008983  0.014724    2.69      0  \n",
       "2 -0.139097 -0.055353 -0.059752  378.66      0  \n",
       "3 -0.221929  0.062723  0.061458  123.50      0  \n",
       "4  0.502292  0.219422  0.215153   69.99      0  \n",
       "\n",
       "[5 rows x 31 columns]"
      ]
     },
     "execution_count": 6,
     "metadata": {},
     "output_type": "execute_result"
    }
   ],
   "source": [
    "dataset.head()"
   ]
  },
  {
   "cell_type": "markdown",
   "metadata": {
    "colab_type": "text",
    "id": "6gSTHiOJfqb2"
   },
   "source": [
    "**2. Посмотреть отсутствующие значения (какое количество Nan элементов).**"
   ]
  },
  {
   "cell_type": "code",
   "execution_count": 3,
   "metadata": {},
   "outputs": [
    {
     "name": "stdout",
     "output_type": "stream",
     "text": [
      "Количество выбросов в dataset: 0\n"
     ]
    }
   ],
   "source": [
    "print('Количество выбросов в dataset: '+str(dataset.isnull().sum().sum()))"
   ]
  },
  {
   "cell_type": "markdown",
   "metadata": {
    "colab_type": "text",
    "id": "OFDGPbTpf7wn"
   },
   "source": [
    "**3. Основное таргет значение: 1 - сделка была обманной, 0 - честной. Сделать график barplot для этих двух классов из колонки 'Class'. Посчитать количество элементов в классе 1 и в классе 2.**"
   ]
  },
  {
   "cell_type": "code",
   "execution_count": 21,
   "metadata": {},
   "outputs": [
    {
     "name": "stdout",
     "output_type": "stream",
     "text": [
      "Количество значений 0 выборки dataset.Class:  284315\n",
      "Количество значений 1 выборки dataset.Class:  492\n"
     ]
    }
   ],
   "source": [
    "print('Количество значений 0 выборки dataset.Class: ', len(dataset[dataset.Class == 0]))\n",
    "fair = dataset[dataset.Class == 0]\n",
    "print('Количество значений 1 выборки dataset.Class: ', len(dataset[dataset.Class == 1]))\n",
    "fraudulent = dataset[dataset.Class == 1]"
   ]
  },
  {
   "cell_type": "code",
   "execution_count": 25,
   "metadata": {},
   "outputs": [
    {
     "data": {
      "text/html": [
       "<div>\n",
       "<style scoped>\n",
       "    .dataframe tbody tr th:only-of-type {\n",
       "        vertical-align: middle;\n",
       "    }\n",
       "\n",
       "    .dataframe tbody tr th {\n",
       "        vertical-align: top;\n",
       "    }\n",
       "\n",
       "    .dataframe thead th {\n",
       "        text-align: right;\n",
       "    }\n",
       "</style>\n",
       "<table border=\"1\" class=\"dataframe\">\n",
       "  <thead>\n",
       "    <tr style=\"text-align: right;\">\n",
       "      <th></th>\n",
       "      <th>Class</th>\n",
       "      <th>Count</th>\n",
       "    </tr>\n",
       "  </thead>\n",
       "  <tbody>\n",
       "    <tr>\n",
       "      <td>0</td>\n",
       "      <td>0</td>\n",
       "      <td>284315</td>\n",
       "    </tr>\n",
       "    <tr>\n",
       "      <td>1</td>\n",
       "      <td>1</td>\n",
       "      <td>492</td>\n",
       "    </tr>\n",
       "  </tbody>\n",
       "</table>\n",
       "</div>"
      ],
      "text/plain": [
       "   Class   Count\n",
       "0      0  284315\n",
       "1      1     492"
      ]
     },
     "execution_count": 25,
     "metadata": {},
     "output_type": "execute_result"
    }
   ],
   "source": [
    "need = dataset.groupby('Class').count().reset_index()\n",
    "need_for = need[['Class','Time']]\n",
    "need_for.columns = ['Class','Count']\n",
    "need_for"
   ]
  },
  {
   "cell_type": "code",
   "execution_count": 26,
   "metadata": {},
   "outputs": [
    {
     "data": {
      "image/png": "[encoded data removed]",
      "text/plain": [
       "<Figure size 432x432 with 1 Axes>"
      ]
     },
     "metadata": {
      "needs_background": "light"
     },
     "output_type": "display_data"
    }
   ],
   "source": [
    "import matplotlib\n",
    "import matplotlib.pyplot as plt\n",
    "import seaborn as sns\n",
    "\n",
    "f, ax = plt.subplots(figsize=(6, 6))\n",
    "sns.barplot(x=need_for['Class'], y=need_for['Count'])\n",
    "\n",
    "plt.xlabel('Класс')\n",
    "plt.ylabel('Количество элементов')\n",
    "plt.title(\"Количество элементов таргета Class\")\n",
    "plt.show()"
   ]
  },
  {
   "cell_type": "code",
   "execution_count": 9,
   "metadata": {},
   "outputs": [
    {
     "data": {
      "image/png": "[encoded data removed]",
      "text/plain": [
       "<Figure size 576x576 with 1 Axes>"
      ]
     },
     "metadata": {},
     "output_type": "display_data"
    }
   ],
   "source": [
    "# Построем pie-график\n",
    "import matplotlib\n",
    "import matplotlib.pyplot as plt\n",
    "\n",
    "labels = '0 - the transaction was fair', '1- the transaction was fraudulent'\n",
    "sizes = [284315, 492]\n",
    "explode = (0, 1)  \n",
    "fig1, ax1 = plt.subplots(figsize=(8,8))\n",
    "plt.title('Процентное соотношение классов в исходных тренировочных данных')\n",
    "ax1.pie(sizes, explode=explode, labels=labels, autopct='%1.1f%%',\n",
    "        shadow=False, startangle=50)\n",
    "ax1.axis('equal') \n",
    "\n",
    "plt.show()"
   ]
  },
  {
   "cell_type": "markdown",
   "metadata": {
    "colab_type": "text",
    "id": "lSsrxdWNhEbt"
   },
   "source": [
    "**4. Сколько денег было использовано в обманных операциях, а сколько - в нормальных операциях?** Сделать частотный график по колонке Amount для колонки Class по двум независимым выборкам: обманная операция, нормальная операция"
   ]
  },
  {
   "cell_type": "code",
   "execution_count": 7,
   "metadata": {},
   "outputs": [
    {
     "data": {
      "image/png": "[encoded data removed]",
      "text/plain": [
       "<Figure size 432x432 with 1 Axes>"
      ]
     },
     "metadata": {
      "needs_background": "light"
     },
     "output_type": "display_data"
    },
    {
     "data": {
      "image/png": "[encoded data removed]",
      "text/plain": [
       "<Figure size 432x432 with 1 Axes>"
      ]
     },
     "metadata": {
      "needs_background": "light"
     },
     "output_type": "display_data"
    }
   ],
   "source": [
    "fraudulent_amount = fraudulent.Amount\n",
    "fraudulent_amount.hist(figsize=(6,6))\n",
    "plt.xlabel('Частота')\n",
    "plt.ylabel('Количество денег в обманных операциях')\n",
    "plt.title('Частотный график fraudulent_amount')\n",
    "plt.show()\n",
    "\n",
    "fair_Amount = fair.Amount\n",
    "fair_Amount.hist(figsize=(6,6))\n",
    "plt.xlabel('Частота')\n",
    "plt.ylabel('Количество денег в честных операциях')\n",
    "plt.title('Частотный график fair_Amount')\n",
    "plt.show()"
   ]
  },
  {
   "cell_type": "markdown",
   "metadata": {
    "colab_type": "text",
    "id": "ZvLC_vQXiP0N"
   },
   "source": [
    "**5. Построить графики histograms для всех значений**"
   ]
  },
  {
   "cell_type": "code",
   "execution_count": 8,
   "metadata": {},
   "outputs": [
    {
     "data": {
      "image/png": "[encoded data removed]",
      "text/plain": [
       "<Figure size 1080x1080 with 36 Axes>"
      ]
     },
     "metadata": {
      "needs_background": "light"
     },
     "output_type": "display_data"
    }
   ],
   "source": [
    "dataset.hist(figsize=(15,15))\n",
    "plt.show()"
   ]
  },
  {
   "cell_type": "markdown",
   "metadata": {
    "colab_type": "text",
    "id": "APD2wPSpi_eH"
   },
   "source": [
    "**6. Построить матрицу корреляций для всех значений**"
   ]
  },
  {
   "cell_type": "code",
   "execution_count": 103,
   "metadata": {},
   "outputs": [
    {
     "data": {
      "text/html": [
       "<div>\n",
       "<style scoped>\n",
       "    .dataframe tbody tr th:only-of-type {\n",
       "        vertical-align: middle;\n",
       "    }\n",
       "\n",
       "    .dataframe tbody tr th {\n",
       "        vertical-align: top;\n",
       "    }\n",
       "\n",
       "    .dataframe thead th {\n",
       "        text-align: right;\n",
       "    }\n",
       "</style>\n",
       "<table border=\"1\" class=\"dataframe\">\n",
       "  <thead>\n",
       "    <tr style=\"text-align: right;\">\n",
       "      <th></th>\n",
       "      <th>Time</th>\n",
       "      <th>V1</th>\n",
       "      <th>V2</th>\n",
       "      <th>V3</th>\n",
       "      <th>V4</th>\n",
       "      <th>V5</th>\n",
       "      <th>V6</th>\n",
       "      <th>V7</th>\n",
       "      <th>V8</th>\n",
       "      <th>V9</th>\n",
       "      <th>...</th>\n",
       "      <th>V21</th>\n",
       "      <th>V22</th>\n",
       "      <th>V23</th>\n",
       "      <th>V24</th>\n",
       "      <th>V25</th>\n",
       "      <th>V26</th>\n",
       "      <th>V27</th>\n",
       "      <th>V28</th>\n",
       "      <th>Amount</th>\n",
       "      <th>Class</th>\n",
       "    </tr>\n",
       "  </thead>\n",
       "  <tbody>\n",
       "    <tr>\n",
       "      <td>Time</td>\n",
       "      <td>1.000000</td>\n",
       "      <td>1.173963e-01</td>\n",
       "      <td>-1.059333e-02</td>\n",
       "      <td>-4.196182e-01</td>\n",
       "      <td>-1.052602e-01</td>\n",
       "      <td>1.730721e-01</td>\n",
       "      <td>-6.301647e-02</td>\n",
       "      <td>8.471437e-02</td>\n",
       "      <td>-3.694943e-02</td>\n",
       "      <td>-8.660434e-03</td>\n",
       "      <td>...</td>\n",
       "      <td>4.473573e-02</td>\n",
       "      <td>1.440591e-01</td>\n",
       "      <td>5.114236e-02</td>\n",
       "      <td>-1.618187e-02</td>\n",
       "      <td>-2.330828e-01</td>\n",
       "      <td>-4.140710e-02</td>\n",
       "      <td>-5.134591e-03</td>\n",
       "      <td>-9.412688e-03</td>\n",
       "      <td>-0.010596</td>\n",
       "      <td>-0.012323</td>\n",
       "    </tr>\n",
       "    <tr>\n",
       "      <td>V1</td>\n",
       "      <td>0.117396</td>\n",
       "      <td>1.000000e+00</td>\n",
       "      <td>4.697350e-17</td>\n",
       "      <td>-1.424390e-15</td>\n",
       "      <td>1.755316e-17</td>\n",
       "      <td>6.391162e-17</td>\n",
       "      <td>2.398071e-16</td>\n",
       "      <td>1.991550e-15</td>\n",
       "      <td>-9.490675e-17</td>\n",
       "      <td>2.169581e-16</td>\n",
       "      <td>...</td>\n",
       "      <td>-1.755072e-16</td>\n",
       "      <td>7.477367e-17</td>\n",
       "      <td>9.808705e-16</td>\n",
       "      <td>7.354269e-17</td>\n",
       "      <td>-9.805358e-16</td>\n",
       "      <td>-8.621897e-17</td>\n",
       "      <td>3.208233e-17</td>\n",
       "      <td>9.820892e-16</td>\n",
       "      <td>-0.227709</td>\n",
       "      <td>-0.101347</td>\n",
       "    </tr>\n",
       "    <tr>\n",
       "      <td>V2</td>\n",
       "      <td>-0.010593</td>\n",
       "      <td>4.697350e-17</td>\n",
       "      <td>1.000000e+00</td>\n",
       "      <td>2.512175e-16</td>\n",
       "      <td>-1.126388e-16</td>\n",
       "      <td>-2.039868e-16</td>\n",
       "      <td>5.024680e-16</td>\n",
       "      <td>3.966486e-16</td>\n",
       "      <td>-4.413984e-17</td>\n",
       "      <td>-5.728718e-17</td>\n",
       "      <td>...</td>\n",
       "      <td>8.444409e-17</td>\n",
       "      <td>2.500830e-16</td>\n",
       "      <td>1.059562e-16</td>\n",
       "      <td>-8.142354e-18</td>\n",
       "      <td>-4.261894e-17</td>\n",
       "      <td>2.601622e-16</td>\n",
       "      <td>-4.478472e-16</td>\n",
       "      <td>-3.676415e-16</td>\n",
       "      <td>-0.531409</td>\n",
       "      <td>0.091289</td>\n",
       "    </tr>\n",
       "    <tr>\n",
       "      <td>V3</td>\n",
       "      <td>-0.419618</td>\n",
       "      <td>-1.424390e-15</td>\n",
       "      <td>2.512175e-16</td>\n",
       "      <td>1.000000e+00</td>\n",
       "      <td>-3.416910e-16</td>\n",
       "      <td>-1.436514e-15</td>\n",
       "      <td>1.431581e-15</td>\n",
       "      <td>2.168574e-15</td>\n",
       "      <td>3.433113e-16</td>\n",
       "      <td>-4.233770e-16</td>\n",
       "      <td>...</td>\n",
       "      <td>-2.971969e-17</td>\n",
       "      <td>4.648259e-16</td>\n",
       "      <td>2.115206e-17</td>\n",
       "      <td>-9.351637e-17</td>\n",
       "      <td>4.771164e-16</td>\n",
       "      <td>6.521501e-16</td>\n",
       "      <td>6.239832e-16</td>\n",
       "      <td>7.726948e-16</td>\n",
       "      <td>-0.210880</td>\n",
       "      <td>-0.192961</td>\n",
       "    </tr>\n",
       "    <tr>\n",
       "      <td>V4</td>\n",
       "      <td>-0.105260</td>\n",
       "      <td>1.755316e-17</td>\n",
       "      <td>-1.126388e-16</td>\n",
       "      <td>-3.416910e-16</td>\n",
       "      <td>1.000000e+00</td>\n",
       "      <td>-1.940929e-15</td>\n",
       "      <td>-2.712659e-16</td>\n",
       "      <td>1.556330e-16</td>\n",
       "      <td>5.195643e-16</td>\n",
       "      <td>3.859585e-16</td>\n",
       "      <td>...</td>\n",
       "      <td>-9.976950e-17</td>\n",
       "      <td>2.099922e-16</td>\n",
       "      <td>6.002528e-17</td>\n",
       "      <td>2.229738e-16</td>\n",
       "      <td>5.394585e-16</td>\n",
       "      <td>-6.179751e-16</td>\n",
       "      <td>-6.403423e-17</td>\n",
       "      <td>-5.863664e-17</td>\n",
       "      <td>0.098732</td>\n",
       "      <td>0.133447</td>\n",
       "    </tr>\n",
       "  </tbody>\n",
       "</table>\n",
       "<p>5 rows × 31 columns</p>\n",
       "</div>"
      ],
      "text/plain": [
       "          Time            V1            V2            V3            V4  \\\n",
       "Time  1.000000  1.173963e-01 -1.059333e-02 -4.196182e-01 -1.052602e-01   \n",
       "V1    0.117396  1.000000e+00  4.697350e-17 -1.424390e-15  1.755316e-17   \n",
       "V2   -0.010593  4.697350e-17  1.000000e+00  2.512175e-16 -1.126388e-16   \n",
       "V3   -0.419618 -1.424390e-15  2.512175e-16  1.000000e+00 -3.416910e-16   \n",
       "V4   -0.105260  1.755316e-17 -1.126388e-16 -3.416910e-16  1.000000e+00   \n",
       "\n",
       "                V5            V6            V7            V8            V9  \\\n",
       "Time  1.730721e-01 -6.301647e-02  8.471437e-02 -3.694943e-02 -8.660434e-03   \n",
       "V1    6.391162e-17  2.398071e-16  1.991550e-15 -9.490675e-17  2.169581e-16   \n",
       "V2   -2.039868e-16  5.024680e-16  3.966486e-16 -4.413984e-17 -5.728718e-17   \n",
       "V3   -1.436514e-15  1.431581e-15  2.168574e-15  3.433113e-16 -4.233770e-16   \n",
       "V4   -1.940929e-15 -2.712659e-16  1.556330e-16  5.195643e-16  3.859585e-16   \n",
       "\n",
       "      ...           V21           V22           V23           V24  \\\n",
       "Time  ...  4.473573e-02  1.440591e-01  5.114236e-02 -1.618187e-02   \n",
       "V1    ... -1.755072e-16  7.477367e-17  9.808705e-16  7.354269e-17   \n",
       "V2    ...  8.444409e-17  2.500830e-16  1.059562e-16 -8.142354e-18   \n",
       "V3    ... -2.971969e-17  4.648259e-16  2.115206e-17 -9.351637e-17   \n",
       "V4    ... -9.976950e-17  2.099922e-16  6.002528e-17  2.229738e-16   \n",
       "\n",
       "               V25           V26           V27           V28    Amount  \\\n",
       "Time -2.330828e-01 -4.140710e-02 -5.134591e-03 -9.412688e-03 -0.010596   \n",
       "V1   -9.805358e-16 -8.621897e-17  3.208233e-17  9.820892e-16 -0.227709   \n",
       "V2   -4.261894e-17  2.601622e-16 -4.478472e-16 -3.676415e-16 -0.531409   \n",
       "V3    4.771164e-16  6.521501e-16  6.239832e-16  7.726948e-16 -0.210880   \n",
       "V4    5.394585e-16 -6.179751e-16 -6.403423e-17 -5.863664e-17  0.098732   \n",
       "\n",
       "         Class  \n",
       "Time -0.012323  \n",
       "V1   -0.101347  \n",
       "V2    0.091289  \n",
       "V3   -0.192961  \n",
       "V4    0.133447  \n",
       "\n",
       "[5 rows x 31 columns]"
      ]
     },
     "execution_count": 103,
     "metadata": {},
     "output_type": "execute_result"
    }
   ],
   "source": [
    "dataset.corr().head()"
   ]
  },
  {
   "cell_type": "code",
   "execution_count": 100,
   "metadata": {},
   "outputs": [
    {
     "data": {
      "text/plain": [
       "<matplotlib.axes._subplots.AxesSubplot at 0x6f8475b408>"
      ]
     },
     "execution_count": 100,
     "metadata": {},
     "output_type": "execute_result"
    },
    {
     "data": {
      "image/png": "[encoded data removed]",
      "text/plain": [
       "<Figure size 936x936 with 2 Axes>"
      ]
     },
     "metadata": {
      "needs_background": "light"
     },
     "output_type": "display_data"
    }
   ],
   "source": [
    "f, ax = plt.subplots(figsize=(13, 13))\n",
    "\n",
    "corr = np.round_(dataset.corr(), decimals=2)\n",
    "\n",
    "sns.heatmap(corr,annot=False,cmap='RdYlGn',linewidths=0.2)"
   ]
  },
  {
   "cell_type": "markdown",
   "metadata": {},
   "source": [
    "**7. Взять все имеющиеся атрибуты из таблицы для предсказания. Разделить на тренировочные и тестовые. Написать модель деревья решений. Сделать classification report.**"
   ]
  },
  {
   "cell_type": "code",
   "execution_count": 10,
   "metadata": {},
   "outputs": [],
   "source": [
    "from sklearn.preprocessing import LabelEncoder\n",
    "le=LabelEncoder()\n",
    "\n",
    "X = dataset.iloc[:,:30]\n",
    "Y=le.fit_transform(dataset.Class)\n",
    "\n",
    "from sklearn.model_selection import train_test_split\n",
    "X_train_22, X_test_22, y_train_22, y_test_22 = train_test_split(X, Y, test_size=0.3)"
   ]
  },
  {
   "cell_type": "markdown",
   "metadata": {},
   "source": [
    "Модель Random Forest"
   ]
  },
  {
   "cell_type": "code",
   "execution_count": 11,
   "metadata": {},
   "outputs": [
    {
     "data": {
      "text/plain": [
       "RandomForestClassifier(bootstrap=True, class_weight=None, criterion='gini',\n",
       "                       max_depth=None, max_features='auto', max_leaf_nodes=None,\n",
       "                       min_impurity_decrease=0.0, min_impurity_split=None,\n",
       "                       min_samples_leaf=1, min_samples_split=2,\n",
       "                       min_weight_fraction_leaf=0.0, n_estimators=100,\n",
       "                       n_jobs=None, oob_score=False, random_state=None,\n",
       "                       verbose=0, warm_start=False)"
      ]
     },
     "execution_count": 11,
     "metadata": {},
     "output_type": "execute_result"
    }
   ],
   "source": [
    "from sklearn.ensemble import RandomForestClassifier\n",
    "\n",
    "# создаем модель деревья решений\n",
    "# выбираем 100 деревьев в качестве параметра\n",
    "model=RandomForestClassifier(n_estimators=100)\n",
    "\n",
    "# обучаем модель\n",
    "model.fit(X_train_22,y_train_22)"
   ]
  },
  {
   "cell_type": "code",
   "execution_count": 12,
   "metadata": {},
   "outputs": [
    {
     "name": "stderr",
     "output_type": "stream",
     "text": [
      "No handles with labels found to put in legend.\n"
     ]
    },
    {
     "data": {
      "image/png": "[encoded data removed]",
      "text/plain": [
       "<Figure size 432x432 with 1 Axes>"
      ]
     },
     "metadata": {
      "needs_background": "light"
     },
     "output_type": "display_data"
    }
   ],
   "source": [
    "headers = list(X_train_22.columns.values)\n",
    "\n",
    "feature_imp = pd.Series(model.feature_importances_,index=headers).sort_values(ascending=False)\n",
    "\n",
    "f, ax = plt.subplots(figsize=(6, 6))\n",
    "sns.barplot(x=feature_imp, y=feature_imp.index)\n",
    "\n",
    "plt.xlabel('Важность атрибутов')\n",
    "plt.ylabel('Атрибуты')\n",
    "plt.title(\"Наиболее важные атрибуты\")\n",
    "plt.legend()\n",
    "plt.show()"
   ]
  },
  {
   "cell_type": "markdown",
   "metadata": {},
   "source": [
    "Как делать classification report:"
   ]
  },
  {
   "cell_type": "code",
   "execution_count": 13,
   "metadata": {},
   "outputs": [
    {
     "name": "stdout",
     "output_type": "stream",
     "text": [
      "              precision    recall  f1-score   support\n",
      "\n",
      "           0       1.00      1.00      1.00     85290\n",
      "           1       0.96      0.76      0.85       153\n",
      "\n",
      "    accuracy                           1.00     85443\n",
      "   macro avg       0.98      0.88      0.93     85443\n",
      "weighted avg       1.00      1.00      1.00     85443\n",
      "\n"
     ]
    },
    {
     "data": {
      "text/plain": [
       "0.9995201479348805"
      ]
     },
     "execution_count": 13,
     "metadata": {},
     "output_type": "execute_result"
    }
   ],
   "source": [
    "from sklearn.metrics import classification_report\n",
    "\n",
    "model_pred = model.predict(X_test_22)\n",
    "\n",
    "print(classification_report(y_test_22, model_pred))\n",
    "\n",
    "model.score(X_test_22, y_test_22)"
   ]
  },
  {
   "cell_type": "markdown",
   "metadata": {
    "colab_type": "text",
    "id": "9LPV_8ixUE1X"
   },
   "source": [
    "**8. Нормализовать данные и написать модель Random Forest уже на нормализованных данных. Сделать classification report. Сравнить с результатом, полученном в задаче 7. Нужно ли нормализовывать данные?**"
   ]
  },
  {
   "cell_type": "markdown",
   "metadata": {},
   "source": [
    "Нормализуем параметры"
   ]
  },
  {
   "cell_type": "code",
   "execution_count": 181,
   "metadata": {},
   "outputs": [
    {
     "data": {
      "text/html": [
       "<div>\n",
       "<style scoped>\n",
       "    .dataframe tbody tr th:only-of-type {\n",
       "        vertical-align: middle;\n",
       "    }\n",
       "\n",
       "    .dataframe tbody tr th {\n",
       "        vertical-align: top;\n",
       "    }\n",
       "\n",
       "    .dataframe thead th {\n",
       "        text-align: right;\n",
       "    }\n",
       "</style>\n",
       "<table border=\"1\" class=\"dataframe\">\n",
       "  <thead>\n",
       "    <tr style=\"text-align: right;\">\n",
       "      <th></th>\n",
       "      <th>0</th>\n",
       "      <th>1</th>\n",
       "      <th>2</th>\n",
       "      <th>3</th>\n",
       "      <th>4</th>\n",
       "      <th>5</th>\n",
       "      <th>6</th>\n",
       "      <th>7</th>\n",
       "      <th>8</th>\n",
       "      <th>9</th>\n",
       "      <th>...</th>\n",
       "      <th>20</th>\n",
       "      <th>21</th>\n",
       "      <th>22</th>\n",
       "      <th>23</th>\n",
       "      <th>24</th>\n",
       "      <th>25</th>\n",
       "      <th>26</th>\n",
       "      <th>27</th>\n",
       "      <th>28</th>\n",
       "      <th>29</th>\n",
       "    </tr>\n",
       "  </thead>\n",
       "  <tbody>\n",
       "    <tr>\n",
       "      <td>0</td>\n",
       "      <td>-1.000000</td>\n",
       "      <td>0.870385</td>\n",
       "      <td>0.532981</td>\n",
       "      <td>0.762730</td>\n",
       "      <td>-0.373955</td>\n",
       "      <td>0.526877</td>\n",
       "      <td>-0.464663</td>\n",
       "      <td>-0.466370</td>\n",
       "      <td>0.572888</td>\n",
       "      <td>-0.049377</td>\n",
       "      <td>...</td>\n",
       "      <td>0.165884</td>\n",
       "      <td>0.122369</td>\n",
       "      <td>0.045984</td>\n",
       "      <td>0.327586</td>\n",
       "      <td>-0.217495</td>\n",
       "      <td>0.170244</td>\n",
       "      <td>-0.210886</td>\n",
       "      <td>-0.162048</td>\n",
       "      <td>-0.374607</td>\n",
       "      <td>-0.988352</td>\n",
       "    </tr>\n",
       "    <tr>\n",
       "      <td>1</td>\n",
       "      <td>-1.000000</td>\n",
       "      <td>0.957084</td>\n",
       "      <td>0.540133</td>\n",
       "      <td>0.680597</td>\n",
       "      <td>-0.456407</td>\n",
       "      <td>0.532241</td>\n",
       "      <td>-0.475617</td>\n",
       "      <td>-0.470249</td>\n",
       "      <td>0.572597</td>\n",
       "      <td>-0.092038</td>\n",
       "      <td>...</td>\n",
       "      <td>0.159060</td>\n",
       "      <td>0.115680</td>\n",
       "      <td>-0.039526</td>\n",
       "      <td>0.333876</td>\n",
       "      <td>-0.327120</td>\n",
       "      <td>0.174581</td>\n",
       "      <td>-0.107974</td>\n",
       "      <td>-0.167310</td>\n",
       "      <td>-0.373155</td>\n",
       "      <td>-0.999791</td>\n",
       "    </tr>\n",
       "    <tr>\n",
       "      <td>2</td>\n",
       "      <td>-0.999988</td>\n",
       "      <td>0.870434</td>\n",
       "      <td>0.506235</td>\n",
       "      <td>0.736282</td>\n",
       "      <td>-0.462469</td>\n",
       "      <td>0.524658</td>\n",
       "      <td>-0.437756</td>\n",
       "      <td>-0.459646</td>\n",
       "      <td>0.576085</td>\n",
       "      <td>-0.178795</td>\n",
       "      <td>...</td>\n",
       "      <td>0.171710</td>\n",
       "      <td>0.130955</td>\n",
       "      <td>0.092060</td>\n",
       "      <td>0.357878</td>\n",
       "      <td>-0.421292</td>\n",
       "      <td>0.119030</td>\n",
       "      <td>-0.194546</td>\n",
       "      <td>-0.169021</td>\n",
       "      <td>-0.376177</td>\n",
       "      <td>-0.970522</td>\n",
       "    </tr>\n",
       "    <tr>\n",
       "      <td>3</td>\n",
       "      <td>-0.999988</td>\n",
       "      <td>0.883756</td>\n",
       "      <td>0.530608</td>\n",
       "      <td>0.736967</td>\n",
       "      <td>-0.572678</td>\n",
       "      <td>0.531294</td>\n",
       "      <td>-0.448882</td>\n",
       "      <td>-0.466394</td>\n",
       "      <td>0.578868</td>\n",
       "      <td>-0.170001</td>\n",
       "      <td>...</td>\n",
       "      <td>0.156100</td>\n",
       "      <td>0.119467</td>\n",
       "      <td>0.020554</td>\n",
       "      <td>0.325214</td>\n",
       "      <td>-0.552348</td>\n",
       "      <td>0.228491</td>\n",
       "      <td>-0.221607</td>\n",
       "      <td>-0.164663</td>\n",
       "      <td>-0.371258</td>\n",
       "      <td>-0.990386</td>\n",
       "    </tr>\n",
       "    <tr>\n",
       "      <td>4</td>\n",
       "      <td>-0.999977</td>\n",
       "      <td>0.877234</td>\n",
       "      <td>0.553040</td>\n",
       "      <td>0.728501</td>\n",
       "      <td>-0.460407</td>\n",
       "      <td>0.525950</td>\n",
       "      <td>-0.472032</td>\n",
       "      <td>-0.462064</td>\n",
       "      <td>0.564967</td>\n",
       "      <td>-0.018101</td>\n",
       "      <td>...</td>\n",
       "      <td>0.169231</td>\n",
       "      <td>0.122655</td>\n",
       "      <td>0.094541</td>\n",
       "      <td>0.326784</td>\n",
       "      <td>-0.197460</td>\n",
       "      <td>0.132685</td>\n",
       "      <td>0.014994</td>\n",
       "      <td>-0.158878</td>\n",
       "      <td>-0.365020</td>\n",
       "      <td>-0.994551</td>\n",
       "    </tr>\n",
       "  </tbody>\n",
       "</table>\n",
       "<p>5 rows × 30 columns</p>\n",
       "</div>"
      ],
      "text/plain": [
       "         0         1         2         3         4         5         6   \\\n",
       "0 -1.000000  0.870385  0.532981  0.762730 -0.373955  0.526877 -0.464663   \n",
       "1 -1.000000  0.957084  0.540133  0.680597 -0.456407  0.532241 -0.475617   \n",
       "2 -0.999988  0.870434  0.506235  0.736282 -0.462469  0.524658 -0.437756   \n",
       "3 -0.999988  0.883756  0.530608  0.736967 -0.572678  0.531294 -0.448882   \n",
       "4 -0.999977  0.877234  0.553040  0.728501 -0.460407  0.525950 -0.472032   \n",
       "\n",
       "         7         8         9   ...        20        21        22        23  \\\n",
       "0 -0.466370  0.572888 -0.049377  ...  0.165884  0.122369  0.045984  0.327586   \n",
       "1 -0.470249  0.572597 -0.092038  ...  0.159060  0.115680 -0.039526  0.333876   \n",
       "2 -0.459646  0.576085 -0.178795  ...  0.171710  0.130955  0.092060  0.357878   \n",
       "3 -0.466394  0.578868 -0.170001  ...  0.156100  0.119467  0.020554  0.325214   \n",
       "4 -0.462064  0.564967 -0.018101  ...  0.169231  0.122655  0.094541  0.326784   \n",
       "\n",
       "         24        25        26        27        28        29  \n",
       "0 -0.217495  0.170244 -0.210886 -0.162048 -0.374607 -0.988352  \n",
       "1 -0.327120  0.174581 -0.107974 -0.167310 -0.373155 -0.999791  \n",
       "2 -0.421292  0.119030 -0.194546 -0.169021 -0.376177 -0.970522  \n",
       "3 -0.552348  0.228491 -0.221607 -0.164663 -0.371258 -0.990386  \n",
       "4 -0.197460  0.132685  0.014994 -0.158878 -0.365020 -0.994551  \n",
       "\n",
       "[5 rows x 30 columns]"
      ]
     },
     "execution_count": 181,
     "metadata": {},
     "output_type": "execute_result"
    }
   ],
   "source": [
    "X_dataset = dataset.iloc[:,:30]\n",
    "headers = list(X_dataset.columns.values)\n",
    "\n",
    "from sklearn import preprocessing\n",
    "min_max_scaler = preprocessing.MinMaxScaler(feature_range=(-1,1))\n",
    "\n",
    "np_scaled = min_max_scaler.fit_transform(X_dataset)\n",
    "X_dataset_norm = pd.DataFrame(np_scaled)\n",
    "X_dataset_norm.head()"
   ]
  },
  {
   "cell_type": "code",
   "execution_count": 182,
   "metadata": {},
   "outputs": [
    {
     "data": {
      "text/html": [
       "<div>\n",
       "<style scoped>\n",
       "    .dataframe tbody tr th:only-of-type {\n",
       "        vertical-align: middle;\n",
       "    }\n",
       "\n",
       "    .dataframe tbody tr th {\n",
       "        vertical-align: top;\n",
       "    }\n",
       "\n",
       "    .dataframe thead th {\n",
       "        text-align: right;\n",
       "    }\n",
       "</style>\n",
       "<table border=\"1\" class=\"dataframe\">\n",
       "  <thead>\n",
       "    <tr style=\"text-align: right;\">\n",
       "      <th></th>\n",
       "      <th>Time</th>\n",
       "      <th>V1</th>\n",
       "      <th>V2</th>\n",
       "      <th>V3</th>\n",
       "      <th>V4</th>\n",
       "      <th>V5</th>\n",
       "      <th>V6</th>\n",
       "      <th>V7</th>\n",
       "      <th>V8</th>\n",
       "      <th>V9</th>\n",
       "      <th>...</th>\n",
       "      <th>V20</th>\n",
       "      <th>V21</th>\n",
       "      <th>V22</th>\n",
       "      <th>V23</th>\n",
       "      <th>V24</th>\n",
       "      <th>V25</th>\n",
       "      <th>V26</th>\n",
       "      <th>V27</th>\n",
       "      <th>V28</th>\n",
       "      <th>Amount</th>\n",
       "    </tr>\n",
       "  </thead>\n",
       "  <tbody>\n",
       "    <tr>\n",
       "      <td>0</td>\n",
       "      <td>-1.000000</td>\n",
       "      <td>0.870385</td>\n",
       "      <td>0.532981</td>\n",
       "      <td>0.762730</td>\n",
       "      <td>-0.373955</td>\n",
       "      <td>0.526877</td>\n",
       "      <td>-0.464663</td>\n",
       "      <td>-0.466370</td>\n",
       "      <td>0.572888</td>\n",
       "      <td>-0.049377</td>\n",
       "      <td>...</td>\n",
       "      <td>0.165884</td>\n",
       "      <td>0.122369</td>\n",
       "      <td>0.045984</td>\n",
       "      <td>0.327586</td>\n",
       "      <td>-0.217495</td>\n",
       "      <td>0.170244</td>\n",
       "      <td>-0.210886</td>\n",
       "      <td>-0.162048</td>\n",
       "      <td>-0.374607</td>\n",
       "      <td>-0.988352</td>\n",
       "    </tr>\n",
       "    <tr>\n",
       "      <td>1</td>\n",
       "      <td>-1.000000</td>\n",
       "      <td>0.957084</td>\n",
       "      <td>0.540133</td>\n",
       "      <td>0.680597</td>\n",
       "      <td>-0.456407</td>\n",
       "      <td>0.532241</td>\n",
       "      <td>-0.475617</td>\n",
       "      <td>-0.470249</td>\n",
       "      <td>0.572597</td>\n",
       "      <td>-0.092038</td>\n",
       "      <td>...</td>\n",
       "      <td>0.159060</td>\n",
       "      <td>0.115680</td>\n",
       "      <td>-0.039526</td>\n",
       "      <td>0.333876</td>\n",
       "      <td>-0.327120</td>\n",
       "      <td>0.174581</td>\n",
       "      <td>-0.107974</td>\n",
       "      <td>-0.167310</td>\n",
       "      <td>-0.373155</td>\n",
       "      <td>-0.999791</td>\n",
       "    </tr>\n",
       "    <tr>\n",
       "      <td>2</td>\n",
       "      <td>-0.999988</td>\n",
       "      <td>0.870434</td>\n",
       "      <td>0.506235</td>\n",
       "      <td>0.736282</td>\n",
       "      <td>-0.462469</td>\n",
       "      <td>0.524658</td>\n",
       "      <td>-0.437756</td>\n",
       "      <td>-0.459646</td>\n",
       "      <td>0.576085</td>\n",
       "      <td>-0.178795</td>\n",
       "      <td>...</td>\n",
       "      <td>0.171710</td>\n",
       "      <td>0.130955</td>\n",
       "      <td>0.092060</td>\n",
       "      <td>0.357878</td>\n",
       "      <td>-0.421292</td>\n",
       "      <td>0.119030</td>\n",
       "      <td>-0.194546</td>\n",
       "      <td>-0.169021</td>\n",
       "      <td>-0.376177</td>\n",
       "      <td>-0.970522</td>\n",
       "    </tr>\n",
       "    <tr>\n",
       "      <td>3</td>\n",
       "      <td>-0.999988</td>\n",
       "      <td>0.883756</td>\n",
       "      <td>0.530608</td>\n",
       "      <td>0.736967</td>\n",
       "      <td>-0.572678</td>\n",
       "      <td>0.531294</td>\n",
       "      <td>-0.448882</td>\n",
       "      <td>-0.466394</td>\n",
       "      <td>0.578868</td>\n",
       "      <td>-0.170001</td>\n",
       "      <td>...</td>\n",
       "      <td>0.156100</td>\n",
       "      <td>0.119467</td>\n",
       "      <td>0.020554</td>\n",
       "      <td>0.325214</td>\n",
       "      <td>-0.552348</td>\n",
       "      <td>0.228491</td>\n",
       "      <td>-0.221607</td>\n",
       "      <td>-0.164663</td>\n",
       "      <td>-0.371258</td>\n",
       "      <td>-0.990386</td>\n",
       "    </tr>\n",
       "    <tr>\n",
       "      <td>4</td>\n",
       "      <td>-0.999977</td>\n",
       "      <td>0.877234</td>\n",
       "      <td>0.553040</td>\n",
       "      <td>0.728501</td>\n",
       "      <td>-0.460407</td>\n",
       "      <td>0.525950</td>\n",
       "      <td>-0.472032</td>\n",
       "      <td>-0.462064</td>\n",
       "      <td>0.564967</td>\n",
       "      <td>-0.018101</td>\n",
       "      <td>...</td>\n",
       "      <td>0.169231</td>\n",
       "      <td>0.122655</td>\n",
       "      <td>0.094541</td>\n",
       "      <td>0.326784</td>\n",
       "      <td>-0.197460</td>\n",
       "      <td>0.132685</td>\n",
       "      <td>0.014994</td>\n",
       "      <td>-0.158878</td>\n",
       "      <td>-0.365020</td>\n",
       "      <td>-0.994551</td>\n",
       "    </tr>\n",
       "  </tbody>\n",
       "</table>\n",
       "<p>5 rows × 30 columns</p>\n",
       "</div>"
      ],
      "text/plain": [
       "       Time        V1        V2        V3        V4        V5        V6  \\\n",
       "0 -1.000000  0.870385  0.532981  0.762730 -0.373955  0.526877 -0.464663   \n",
       "1 -1.000000  0.957084  0.540133  0.680597 -0.456407  0.532241 -0.475617   \n",
       "2 -0.999988  0.870434  0.506235  0.736282 -0.462469  0.524658 -0.437756   \n",
       "3 -0.999988  0.883756  0.530608  0.736967 -0.572678  0.531294 -0.448882   \n",
       "4 -0.999977  0.877234  0.553040  0.728501 -0.460407  0.525950 -0.472032   \n",
       "\n",
       "         V7        V8        V9  ...       V20       V21       V22       V23  \\\n",
       "0 -0.466370  0.572888 -0.049377  ...  0.165884  0.122369  0.045984  0.327586   \n",
       "1 -0.470249  0.572597 -0.092038  ...  0.159060  0.115680 -0.039526  0.333876   \n",
       "2 -0.459646  0.576085 -0.178795  ...  0.171710  0.130955  0.092060  0.357878   \n",
       "3 -0.466394  0.578868 -0.170001  ...  0.156100  0.119467  0.020554  0.325214   \n",
       "4 -0.462064  0.564967 -0.018101  ...  0.169231  0.122655  0.094541  0.326784   \n",
       "\n",
       "        V24       V25       V26       V27       V28    Amount  \n",
       "0 -0.217495  0.170244 -0.210886 -0.162048 -0.374607 -0.988352  \n",
       "1 -0.327120  0.174581 -0.107974 -0.167310 -0.373155 -0.999791  \n",
       "2 -0.421292  0.119030 -0.194546 -0.169021 -0.376177 -0.970522  \n",
       "3 -0.552348  0.228491 -0.221607 -0.164663 -0.371258 -0.990386  \n",
       "4 -0.197460  0.132685  0.014994 -0.158878 -0.365020 -0.994551  \n",
       "\n",
       "[5 rows x 30 columns]"
      ]
     },
     "execution_count": 182,
     "metadata": {},
     "output_type": "execute_result"
    }
   ],
   "source": [
    "X_dataset_norm.columns = headers\n",
    "X_dataset_norm.head()"
   ]
  },
  {
   "cell_type": "code",
   "execution_count": 183,
   "metadata": {},
   "outputs": [],
   "source": [
    "from sklearn.preprocessing import LabelEncoder\n",
    "le=LabelEncoder()\n",
    "\n",
    "Y=le.fit_transform(dataset.Class)\n",
    "\n",
    "from sklearn.model_selection import train_test_split\n",
    "X_train_22, X_test_22, y_train_22, y_test_22 = train_test_split(X_dataset_norm, Y, test_size=0.3)"
   ]
  },
  {
   "cell_type": "markdown",
   "metadata": {},
   "source": [
    "Модель Random Forest"
   ]
  },
  {
   "cell_type": "code",
   "execution_count": 184,
   "metadata": {},
   "outputs": [
    {
     "data": {
      "text/plain": [
       "RandomForestClassifier(bootstrap=True, class_weight=None, criterion='gini',\n",
       "                       max_depth=None, max_features='auto', max_leaf_nodes=None,\n",
       "                       min_impurity_decrease=0.0, min_impurity_split=None,\n",
       "                       min_samples_leaf=1, min_samples_split=2,\n",
       "                       min_weight_fraction_leaf=0.0, n_estimators=100,\n",
       "                       n_jobs=None, oob_score=False, random_state=None,\n",
       "                       verbose=0, warm_start=False)"
      ]
     },
     "execution_count": 184,
     "metadata": {},
     "output_type": "execute_result"
    }
   ],
   "source": [
    "from sklearn.ensemble import RandomForestClassifier\n",
    "\n",
    "# создаем модель деревья решений\n",
    "# выбираем 100 деревьев в качестве параметра\n",
    "model=RandomForestClassifier(n_estimators=100)\n",
    "\n",
    "# обучаем модель\n",
    "model.fit(X_train_22,y_train_22)"
   ]
  },
  {
   "cell_type": "code",
   "execution_count": 186,
   "metadata": {},
   "outputs": [
    {
     "name": "stderr",
     "output_type": "stream",
     "text": [
      "No handles with labels found to put in legend.\n"
     ]
    },
    {
     "data": {
      "image/png": "[encoded data removed]",
      "text/plain": [
       "<Figure size 432x432 with 1 Axes>"
      ]
     },
     "metadata": {
      "needs_background": "light"
     },
     "output_type": "display_data"
    }
   ],
   "source": [
    "headers = list(X_train_22.columns.values)\n",
    "\n",
    "feature_imp = pd.Series(model.feature_importances_,index=headers).sort_values(ascending=False)\n",
    "\n",
    "f, ax = plt.subplots(figsize=(6, 6))\n",
    "sns.barplot(x=feature_imp, y=feature_imp.index)\n",
    "\n",
    "plt.xlabel('Важность атрибутов')\n",
    "plt.ylabel('Атрибуты')\n",
    "plt.title(\"Наиболее важные атрибуты\")\n",
    "plt.legend()\n",
    "plt.show()"
   ]
  },
  {
   "cell_type": "markdown",
   "metadata": {},
   "source": [
    "Как делать classification report:"
   ]
  },
  {
   "cell_type": "code",
   "execution_count": 187,
   "metadata": {},
   "outputs": [
    {
     "name": "stdout",
     "output_type": "stream",
     "text": [
      "              precision    recall  f1-score   support\n",
      "\n",
      "           0       1.00      1.00      1.00     85289\n",
      "           1       0.94      0.78      0.85       154\n",
      "\n",
      "    accuracy                           1.00     85443\n",
      "   macro avg       0.97      0.89      0.93     85443\n",
      "weighted avg       1.00      1.00      1.00     85443\n",
      "\n"
     ]
    },
    {
     "data": {
      "text/plain": [
       "0.9995201479348805"
      ]
     },
     "execution_count": 187,
     "metadata": {},
     "output_type": "execute_result"
    }
   ],
   "source": [
    "from sklearn.metrics import classification_report\n",
    "\n",
    "model_pred = model.predict(X_test_22)\n",
    "\n",
    "print(classification_report(y_test_22, model_pred))\n",
    "\n",
    "model.score(X_test_22, y_test_22)"
   ]
  },
  {
   "cell_type": "markdown",
   "metadata": {},
   "source": [
    "Как видно из результатов работы classification report, нормализация данных не сильно влияет на точность предсказания модели рандомных деревьев (до нормализации - 0.9995201479348805; после нормализации - 0.9995201479348805). "
   ]
  },
  {
   "cell_type": "markdown",
   "metadata": {},
   "source": [
    "**9. Уравновесить классы с помощью up-sampling (тестовые данные не меняем, только тренировочные).**"
   ]
  },
  {
   "cell_type": "markdown",
   "metadata": {},
   "source": [
    "Создадим тренировочный и тестовый датасет из исходных данных"
   ]
  },
  {
   "cell_type": "code",
   "execution_count": 3,
   "metadata": {},
   "outputs": [],
   "source": [
    "from sklearn.preprocessing import LabelEncoder\n",
    "le=LabelEncoder()\n",
    "\n",
    "X = dataset.iloc[:,:30]\n",
    "Y=le.fit_transform(dataset.Class)\n",
    "\n",
    "from sklearn.model_selection import train_test_split\n",
    "X_train_22, X_test_22, y_train_22, y_test_22 = train_test_split(X, Y, test_size=0.3)"
   ]
  },
  {
   "cell_type": "markdown",
   "metadata": {},
   "source": [
    "Увеличим количество тренировочных данных (тестовые данные остаются нетронутыми)"
   ]
  },
  {
   "cell_type": "code",
   "execution_count": 7,
   "metadata": {},
   "outputs": [
    {
     "name": "stdout",
     "output_type": "stream",
     "text": [
      "Количество элементов до операции: 199364\n",
      "Количество элементов после операции: 398004\n"
     ]
    }
   ],
   "source": [
    "from imblearn.over_sampling import RandomOverSampler\n",
    "from imblearn.under_sampling import RandomUnderSampler\n",
    "\n",
    "ros = RandomOverSampler(random_state=0)\n",
    "\n",
    "ros.fit(X_train_22, y_train_22)\n",
    "X_resampled, y_resampled = ros.fit_sample(X_train_22, y_train_22)\n",
    "print('Количество элементов до операции:', len(X_train_22))\n",
    "print('Количество элементов после операции:', len(X_resampled))"
   ]
  },
  {
   "cell_type": "markdown",
   "metadata": {},
   "source": [
    "Мы увеличили количество элементов, и уравняли классы по количеству"
   ]
  },
  {
   "cell_type": "code",
   "execution_count": 8,
   "metadata": {},
   "outputs": [
    {
     "data": {
      "text/plain": [
       "{0: 199002, 1: 199002}"
      ]
     },
     "execution_count": 8,
     "metadata": {},
     "output_type": "execute_result"
    }
   ],
   "source": [
    "unique, counts = np.unique(y_resampled, return_counts=True)\n",
    "dict(zip(unique, counts))"
   ]
  },
  {
   "cell_type": "code",
   "execution_count": 12,
   "metadata": {},
   "outputs": [
    {
     "data": {
      "image/png": "[encoded data removed]",
      "text/plain": [
       "<Figure size 432x432 with 1 Axes>"
      ]
     },
     "metadata": {},
     "output_type": "display_data"
    }
   ],
   "source": [
    "# Построем pie-график\n",
    "import matplotlib\n",
    "import matplotlib.pyplot as plt\n",
    "\n",
    "labels = '0 - the transaction was fair', '1- the transaction was fraudulent'\n",
    "sizes = [199002, 199002]\n",
    "explode = (0.0, 0.0) \n",
    "fig1, ax1 = plt.subplots(figsize=(6, 6))\n",
    "plt.title('Распределение классов в процентном соотношении в тренировочной выборке')\n",
    "ax1.pie(sizes, explode=explode, labels=labels, autopct='%1.1f%%',\n",
    "        shadow=False, startangle=90)\n",
    "ax1.axis('equal')\n",
    "\n",
    "plt.show()"
   ]
  },
  {
   "cell_type": "markdown",
   "metadata": {},
   "source": [
    "Но в тестовых данных остается несбалансированность."
   ]
  },
  {
   "cell_type": "code",
   "execution_count": 14,
   "metadata": {},
   "outputs": [
    {
     "data": {
      "text/plain": [
       "{0: 85313, 1: 130}"
      ]
     },
     "execution_count": 14,
     "metadata": {},
     "output_type": "execute_result"
    }
   ],
   "source": [
    "unique, counts = np.unique(y_test_22, return_counts=True)\n",
    "dict(zip(unique, counts))"
   ]
  },
  {
   "cell_type": "code",
   "execution_count": 18,
   "metadata": {},
   "outputs": [
    {
     "data": {
      "image/png": "[encoded data removed]",
      "text/plain": [
       "<Figure size 432x432 with 1 Axes>"
      ]
     },
     "metadata": {},
     "output_type": "display_data"
    }
   ],
   "source": [
    "# Построем pie-график\n",
    "import matplotlib\n",
    "import matplotlib.pyplot as plt\n",
    "\n",
    "labels = '0 - the transaction was fair', '1- the transaction was fraudulent'\n",
    "sizes = [85313, 130]\n",
    "explode = (0, 1)\n",
    "\n",
    "fig1, ax1 = plt.subplots(figsize=(6, 6))\n",
    "plt.title('Распределение классов в процентном соотношении в тестовой выборке')\n",
    "ax1.pie(sizes, explode=explode, labels=labels, autopct='%1.1f%%',\n",
    "        shadow=False, startangle=45)\n",
    "ax1.axis('equal') \n",
    "\n",
    "plt.show()"
   ]
  }
 ],
 "metadata": {
  "colab": {
   "include_colab_link": true,
   "name": "dz_4.version2.ipynb",
   "provenance": [],
   "toc_visible": true
  },
  "kernelspec": {
   "display_name": "Python 3",
   "language": "python",
   "name": "python3"
  },
  "language_info": {
   "codemirror_mode": {
    "name": "ipython",
    "version": 3
   },
   "file_extension": ".py",
   "mimetype": "text/x-python",
   "name": "python",
   "nbconvert_exporter": "python",
   "pygments_lexer": "ipython3",
   "version": "3.7.4"
  }
 },
 "nbformat": 4,
 "nbformat_minor": 1
}
